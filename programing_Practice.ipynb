{
  "nbformat": 4,
  "nbformat_minor": 0,
  "metadata": {
    "colab": {
      "name": "programing Practice.ipynb",
      "provenance": [],
      "collapsed_sections": []
    },
    "kernelspec": {
      "name": "python3",
      "display_name": "Python 3"
    }
  },
  "cells": [
    {
      "cell_type": "markdown",
      "metadata": {
        "id": "RiMFzqb2SK55"
      },
      "source": [
        "# **First index of a number in a list**"
      ]
    },
    {
      "cell_type": "markdown",
      "metadata": {
        "id": "Bl1Hkv_wc-ha"
      },
      "source": [
        "**Method 1**"
      ]
    },
    {
      "cell_type": "code",
      "metadata": {
        "colab": {
          "base_uri": "https://localhost:8080/"
        },
        "id": "JDrImVJWRquF",
        "outputId": "bb11b999-d02b-4247-e131-6c13ae5ba530"
      },
      "source": [
        "def firstIndex(l,x):\n",
        "  length = len(l)\n",
        "  if length == 0:\n",
        "    return -1\n",
        "  elif l[0] == x:\n",
        "    return 1\n",
        "  else:\n",
        "    smallerOutput = firstIndex(l[1:],x)\n",
        "  if smallerOutput == -1:\n",
        "    return -1\n",
        "  else:\n",
        "    return smallerOutput + 1\n",
        " # return smallerOutput\n",
        "  \n",
        "  \n",
        "\n",
        "\n",
        "l = list(map(int,input().split()))\n",
        "x = int(input())\n",
        "print(firstIndex(l,x))"
      ],
      "execution_count": 15,
      "outputs": [
        {
          "output_type": "stream",
          "text": [
            "9 2 44 56 78 78\n",
            "78\n",
            "5\n"
          ],
          "name": "stdout"
        }
      ]
    },
    {
      "cell_type": "markdown",
      "metadata": {
        "id": "zjtMY2rqdHEm"
      },
      "source": [
        "**Method 2**"
      ]
    },
    {
      "cell_type": "code",
      "metadata": {
        "id": "4ynA8m51RrNm",
        "colab": {
          "base_uri": "https://localhost:8080/"
        },
        "outputId": "3018205d-e87f-4448-855e-bbdd0dc93e94"
      },
      "source": [
        "def firstIndex_s(l,x,start):\n",
        "  length = len(l)\n",
        "  if start > length:\n",
        "    return -1\n",
        "  elif l[start] == x:\n",
        "    return 1\n",
        "  else:\n",
        "    smallerOutput = firstIndex(l,x,start + 1)\n",
        "  if smallerOutput == -1:\n",
        "    return -1\n",
        "  else:\n",
        "    return smallerOutput + 1\n",
        " # return smallerOutput\n",
        "  \n",
        "  \n",
        "\n",
        "\n",
        "l = list(map(int,input().split()))\n",
        "x = int(input())\n",
        "print(firstIndex(l,x))"
      ],
      "execution_count": 17,
      "outputs": [
        {
          "output_type": "stream",
          "text": [
            "9 2 44 56 78 78\n",
            "155\n",
            "-1\n"
          ],
          "name": "stdout"
        }
      ]
    },
    {
      "cell_type": "markdown",
      "metadata": {
        "id": "kdK2wHC-fIvn"
      },
      "source": [
        "# **Last index of a number in a list**"
      ]
    },
    {
      "cell_type": "code",
      "metadata": {
        "colab": {
          "base_uri": "https://localhost:8080/"
        },
        "id": "4kQokj1YdGxF",
        "outputId": "c1cc2a5d-0ac0-4086-feb4-23944dcbcd65"
      },
      "source": [
        "def lastIndex (l,x ):\n",
        "  length = len(l)\n",
        "  if length == 0:\n",
        "    return -1\n",
        "  smallerOutput = lastIndex(l[1:],x)\n",
        "  if smallerOutput !=-1:\n",
        "    return smallerOutput + 1\n",
        "  else:\n",
        "    if l[0] == x:\n",
        "      return 1\n",
        "    else:\n",
        "      return -1\n",
        "\n",
        "\n",
        "l = list(map(int, input().split()))\n",
        "n = int(input())\n",
        "print(lastIndex(l,n))"
      ],
      "execution_count": 4,
      "outputs": [
        {
          "output_type": "stream",
          "text": [
            "9 2 44 56 78 78\n",
            "155\n",
            "-1\n"
          ],
          "name": "stdout"
        }
      ]
    },
    {
      "cell_type": "markdown",
      "metadata": {
        "id": "3HfZz5jfnhOA"
      },
      "source": [
        "# **Check if the list is sorted or not**"
      ]
    },
    {
      "cell_type": "code",
      "metadata": {
        "id": "aMITeH6IRrVl",
        "colab": {
          "base_uri": "https://localhost:8080/"
        },
        "outputId": "8f7d04a5-67d2-4017-dc56-c4f113e5b3f0"
      },
      "source": [
        "def SortOrNot(l):\n",
        "  length = len(l)\n",
        "  if length == 0 or length == 1:\n",
        "    return True\n",
        "\n",
        "  if l[0] > l[1]:\n",
        "    return False\n",
        "    \n",
        "  smallerOutput = SortOrNot(l[1:])\n",
        "  if smallerOutput:\n",
        "    return True\n",
        "  else:\n",
        "    return False\n",
        "\n",
        "  \n",
        "\n",
        "#start = 1\n",
        "l = list(map(int,input().split()))\n",
        "print(SortOrNot(l))"
      ],
      "execution_count": 8,
      "outputs": [
        {
          "output_type": "stream",
          "text": [
            "1 2 5 3 6 7\n",
            "False\n"
          ],
          "name": "stdout"
        }
      ]
    },
    {
      "cell_type": "markdown",
      "metadata": {
        "id": "FfOT-Sbg1iJM"
      },
      "source": [
        "# **Substring**"
      ]
    },
    {
      "cell_type": "code",
      "metadata": {
        "id": "6hmLlYSyRtOy",
        "colab": {
          "base_uri": "https://localhost:8080/"
        },
        "outputId": "eedc0049-4896-4631-f04a-2a594d14a6ab"
      },
      "source": [
        "def substring(s):\n",
        "  l = [s[i:j]for i in range(len(s)) for j in range(i+1,len(s)+1)]\n",
        "  return l\n",
        "\n",
        "#l = []\n",
        "str = input()\n",
        "print(substring(str))\n"
      ],
      "execution_count": 20,
      "outputs": [
        {
          "output_type": "stream",
          "text": [
            "sarib\n",
            "['s', 'sa', 'sar', 'sari', 'sarib', 'a', 'ar', 'ari', 'arib', 'r', 'ri', 'rib', 'i', 'ib', 'b']\n"
          ],
          "name": "stdout"
        }
      ]
    },
    {
      "cell_type": "markdown",
      "metadata": {
        "id": "FHrnW1JDocY_"
      },
      "source": [
        "# **Insertion Sort**"
      ]
    },
    {
      "cell_type": "code",
      "metadata": {
        "colab": {
          "base_uri": "https://localhost:8080/"
        },
        "id": "PA-hAekXoPDw",
        "outputId": "1a67b839-e9f3-48ec-9263-c71fa73595cf"
      },
      "source": [
        "def sort(l):\n",
        "\n",
        "\tfor i in range(1,len(l)):\n",
        "\t\tkey = l[i]\n",
        "\t\tj = i-1\n",
        "\n",
        "\t\twhile (j>=0 and l[j]>key):\n",
        "\t\t\tl[j], l[i] = l[i],l[j]\n",
        "\t\t\tj = j-1\n",
        "\n",
        "\n",
        "l = list(map(int, input().split()))\n",
        "print(l)\n",
        "print()\n",
        "sort(l)\n",
        "print(l)"
      ],
      "execution_count": 1,
      "outputs": [
        {
          "output_type": "stream",
          "text": [
            "5 4 10 9\n",
            "[5, 4, 10, 9]\n",
            "\n",
            "[4, 5, 9, 10]\n"
          ],
          "name": "stdout"
        }
      ]
    }
  ]
}